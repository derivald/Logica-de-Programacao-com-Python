{
  "nbformat": 4,
  "nbformat_minor": 0,
  "metadata": {
    "colab": {
      "provenance": [],
      "authorship_tag": "ABX9TyOF1ATRNPlRqyUgPD+z1XKT",
      "include_colab_link": true
    },
    "kernelspec": {
      "name": "python3",
      "display_name": "Python 3"
    },
    "language_info": {
      "name": "python"
    }
  },
  "cells": [
    {
      "cell_type": "markdown",
      "metadata": {
        "id": "view-in-github",
        "colab_type": "text"
      },
      "source": [
        "<a href=\"https://colab.research.google.com/github/derivald/Logica-de-Programacao-com-Python/blob/main/Programming_logic_task2.ipynb\" target=\"_parent\"><img src=\"https://colab.research.google.com/assets/colab-badge.svg\" alt=\"Open In Colab\"/></a>"
      ]
    },
    {
      "cell_type": "markdown",
      "source": [
        "# **Programming logic with Python**"
      ],
      "metadata": {
        "id": "o-xSDBVOCk2k"
      }
    },
    {
      "cell_type": "code",
      "execution_count": null,
      "metadata": {
        "id": "oWyCH0DtCLlp"
      },
      "outputs": [],
      "source": [
        "1+1"
      ]
    },
    {
      "cell_type": "code",
      "source": [
        "'Derivaldo'"
      ],
      "metadata": {
        "id": "dEui2ybFCpT_"
      },
      "execution_count": null,
      "outputs": []
    },
    {
      "cell_type": "code",
      "source": [
        "name = 'Derivaldo'"
      ],
      "metadata": {
        "id": "m8iTXJiRDOOA"
      },
      "execution_count": null,
      "outputs": []
    },
    {
      "cell_type": "code",
      "source": [
        "name = 'Derivaldo'"
      ],
      "metadata": {
        "id": "nRAQeYEuD0oz"
      },
      "execution_count": null,
      "outputs": []
    },
    {
      "cell_type": "code",
      "source": [
        "age = 56"
      ],
      "metadata": {
        "id": "SLhtvGMGD4VQ"
      },
      "execution_count": null,
      "outputs": []
    },
    {
      "cell_type": "code",
      "source": [
        "print(f' The name é {name} and his age is{age} years old')"
      ],
      "metadata": {
        "id": "PUJRd90sfpbs"
      },
      "execution_count": null,
      "outputs": []
    },
    {
      "cell_type": "markdown",
      "source": [
        "# Criando Minha Primeira Função"
      ],
      "metadata": {
        "id": "oJ02uObAjsFr"
      }
    },
    {
      "cell_type": "code",
      "source": [
        "def saudacao():\n",
        "  nome = input('Qual é o seu nome? ')\n",
        "  print(f'Olá {nome}')"
      ],
      "metadata": {
        "id": "9sXKZVuBj75I"
      },
      "execution_count": null,
      "outputs": []
    },
    {
      "cell_type": "code",
      "source": [
        "saudacao()"
      ],
      "metadata": {
        "id": "cFxS_YKfkwpY",
        "colab": {
          "base_uri": "https://localhost:8080/"
        },
        "outputId": "0cc97791-d210-47dd-cbf1-87405cb5440e"
      },
      "execution_count": null,
      "outputs": [
        {
          "output_type": "stream",
          "name": "stdout",
          "text": [
            "What is your name? Derivaldo\n",
            "Hello Derivaldo\n"
          ]
        }
      ]
    },
    {
      "cell_type": "code",
      "source": [
        "def nomeInteiro():\n",
        "  primeiroNome = input('Qual é seu primeiro nome? ')\n",
        "  sobrenome = input('Qual é seu sobrenome? ')\n",
        "  nomeInteiro = primeiroNome + ' ' + sobrenome\n",
        "  print(nomeInteiro)"
      ],
      "metadata": {
        "id": "lZrT1uQxuyx7"
      },
      "execution_count": null,
      "outputs": []
    },
    {
      "cell_type": "markdown",
      "source": [
        "# Parâmetros"
      ],
      "metadata": {
        "id": "1W-I7m77vyrM"
      }
    },
    {
      "cell_type": "code",
      "source": [
        "nome = 'João'"
      ],
      "metadata": {
        "id": "joUZ-u0rouhU"
      },
      "execution_count": null,
      "outputs": []
    },
    {
      "cell_type": "code",
      "source": [
        "def saudacaoComParametro(nomeDaPessoa):\n",
        "  print(f'Olá {nomeDaPessoa}')"
      ],
      "metadata": {
        "id": "nrQ7XbxrmW6v"
      },
      "execution_count": null,
      "outputs": []
    },
    {
      "cell_type": "code",
      "source": [
        "saudacaoComParametro(nome)"
      ],
      "metadata": {
        "colab": {
          "base_uri": "https://localhost:8080/"
        },
        "id": "ujVKFZV0uhBv",
        "outputId": "2270514c-7351-48be-a4c3-4d8879490e73"
      },
      "execution_count": null,
      "outputs": [
        {
          "output_type": "stream",
          "name": "stdout",
          "text": [
            "Olá João\n"
          ]
        }
      ]
    },
    {
      "cell_type": "code",
      "source": [],
      "metadata": {
        "id": "mj9amSJ9vMP6"
      },
      "execution_count": null,
      "outputs": []
    },
    {
      "cell_type": "markdown",
      "source": [
        "# Condicional"
      ],
      "metadata": {
        "id": "fao5iOp9wsqR"
      }
    },
    {
      "cell_type": "code",
      "source": [
        "idade = 10\n",
        "def verificaSePodeDirigir(idade):\n",
        "  if idade >= 18:\n",
        "    print('Tem permissão para dirigir')\n",
        "  else:\n",
        "    print('Não tem permissão para dirigir')\n",
        "\n",
        "verificaSePodeDirigir(idade)\n"
      ],
      "metadata": {
        "colab": {
          "base_uri": "https://localhost:8080/"
        },
        "id": "oQDfGuFSwxo2",
        "outputId": "b3124480-bd5e-4c60-f8bc-b09545c80861"
      },
      "execution_count": null,
      "outputs": [
        {
          "output_type": "stream",
          "name": "stdout",
          "text": [
            "Não tem permissão para dirigir\n"
          ]
        }
      ]
    },
    {
      "cell_type": "markdown",
      "source": [
        "# Convertendo tipo string par tipo inteiro"
      ],
      "metadata": {
        "id": "7eTKOI5bHSe0"
      }
    },
    {
      "cell_type": "code",
      "source": [
        "def verificaSePodeDirigirSemParametros():\n",
        "  idade = input('Qual sua idade? ')\n",
        "  idade = int(idade)\n",
        "  if idade >= 18:\n",
        "    print('Tem permissão para dirigir')\n",
        "  else:\n",
        "    print('Não tem permissão para dirigir')\n",
        "\n",
        "verificaSePodeDirigirSemParametros()"
      ],
      "metadata": {
        "colab": {
          "base_uri": "https://localhost:8080/"
        },
        "id": "bfUiLFg4FVWO",
        "outputId": "92fcb4de-fe31-456b-8860-ed71478f6ff5"
      },
      "execution_count": null,
      "outputs": [
        {
          "output_type": "stream",
          "name": "stdout",
          "text": [
            "Qual sua idade? 20\n",
            "Tem permissão para dirigir\n"
          ]
        }
      ]
    }
  ]
}